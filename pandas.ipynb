{
 "cells": [
  {
   "cell_type": "code",
   "execution_count": 5,
   "metadata": {},
   "outputs": [],
   "source": [
    "import numpy as np\n",
    "import pandas as pd"
   ]
  },
  {
   "cell_type": "markdown",
   "metadata": {},
   "source": [
    "# Pandas\n",
    "\n",
    " - Fundamental data structures: `Series`, `DataFrame` and `Index`\n",
    " \n",
    " ### Series\n",
    " \n",
    " Series is the fancy version of python built-in dictionaries. Series is an analog of a one-dimensional array with flexible indices.\n",
    " \n",
    " ### DataFrame\n",
    " \n",
    " DataFrame is an analog of a two-dimensional array with both flexible row indices and flexible column names.\n",
    " \n",
    " ### Index\n",
    " \n",
    " Used in Series and DataFrame. It is like immutable array. It also operates like set such that union, intersection and difference operations are allowed."
   ]
  },
  {
   "cell_type": "code",
   "execution_count": 17,
   "metadata": {},
   "outputs": [
    {
     "name": "stdout",
     "output_type": "stream",
     "text": [
      "0     5\n",
      "1     6\n",
      "2     7\n",
      "3     8\n",
      "4     9\n",
      "5    10\n",
      "dtype: int64\n",
      "[ 5  6  7  8  9 10]\n",
      "\n",
      "bar    12\n",
      "baz    11\n",
      "foo    10\n",
      "dtype: int64\n",
      "\n",
      "bar    12\n",
      "baz    11\n",
      "dtype: int64\n",
      "\n",
      "1      10\n",
      "2     100\n",
      "0       1\n",
      "3    1000\n",
      "dtype: int64\n"
     ]
    }
   ],
   "source": [
    "# Similar to dictionary\n",
    "\n",
    "data = pd.Series(np.arange(6) + 5)\n",
    "print(data)\n",
    "print(data.values)\n",
    "\n",
    "# Can be constructed from dictionary directly\n",
    "\n",
    "print()\n",
    "d = {\"foo\":10, \"bar\":12, \"baz\":11}\n",
    "data = pd.Series(d)\n",
    "print(data)\n",
    "\n",
    "# Unlike dictionary, it is sorted\n",
    "print()\n",
    "print(data[\"bar\":\"baz\"]) # Strangly it also includes data[\"baz]\n",
    "\n",
    "# Index parameter can be given explicitly\n",
    "print()\n",
    "data = pd.Series([10, 100, 1, 1000], index = [1, 2, 0, 3])\n",
    "print(data)"
   ]
  },
  {
   "cell_type": "code",
   "execution_count": 25,
   "metadata": {},
   "outputs": [
    {
     "name": "stdout",
     "output_type": "stream",
     "text": [
      "    a  b\n",
      "0   1  2\n",
      "1   0  2\n",
      "2  10 -5\n",
      "\n",
      "    a    b\n",
      "0   1  2.0\n",
      "1   0  2.0\n",
      "2  10  NaN\n",
      "Index(['a', 'b'], dtype='object')\n",
      "\n",
      "     col id\n",
      "bar      12\n",
      "baz      11\n",
      "foo      10\n",
      "\n",
      "     col id\n",
      "bar      12\n",
      "baz      11\n",
      "foo      10\n"
     ]
    }
   ],
   "source": [
    "# DataFrame is like a table\n",
    "\n",
    "# Can be created from dict\n",
    "data = pd.DataFrame([{\"a\": 1, \"b\": 2}, {\"a\":0, \"b\": 2}, {\"a\":10, \"b\": -5}])\n",
    "print(data)\n",
    "\n",
    "# even if some values are missing\n",
    "print()\n",
    "data = pd.DataFrame([{\"a\": 1, \"b\": 2}, {\"a\":0, \"b\": 2}, {\"a\":10}])\n",
    "print(data)\n",
    "\n",
    "print(data.columns)\n",
    "\n",
    "# from series\n",
    "print()\n",
    "s = pd.Series({\"foo\":10, \"bar\":12, \"baz\":11})\n",
    "data = pd.DataFrame(s, columns=[\"col id\"])\n",
    "print(data)\n",
    "\n",
    "# or dict of series\n",
    "print()\n",
    "data = pd.DataFrame({\"col id\":s})\n",
    "print(data)"
   ]
  },
  {
   "cell_type": "markdown",
   "metadata": {},
   "source": [
    "## Indexing and Selection\n",
    "\n",
    "When we do numpy like indexing, a confusion may arise whether we meant explicit or implicit indices. Since \"Explicit is better than implicit\", we use related methods `loc`, `iloc`. The same logic applies to both Series and DataFrames.\n",
    "\n",
    " - `ix` is like hybrid of `loc` and `iloc`. Again it might be dangerous if indices are integer."
   ]
  },
  {
   "cell_type": "code",
   "execution_count": 28,
   "metadata": {},
   "outputs": [
    {
     "name": "stdout",
     "output_type": "stream",
     "text": [
      "1    a\n",
      "3    b\n",
      "5    c\n",
      "dtype: object\n",
      "1    a\n",
      "3    b\n",
      "dtype: object\n",
      "3    b\n",
      "5    c\n",
      "dtype: object\n"
     ]
    }
   ],
   "source": [
    "data = pd.Series([\"a\", \"b\", \"c\"], index = [1, 3, 5])\n",
    "print(data)\n",
    "\n",
    "print(data.loc[1:3]) # Note that 3 is included in explicit slicing\n",
    "print(data.iloc[1:3])"
   ]
  }
 ],
 "metadata": {
  "kernelspec": {
   "display_name": "Python 3",
   "language": "python",
   "name": "python3"
  },
  "language_info": {
   "codemirror_mode": {
    "name": "ipython",
    "version": 3
   },
   "file_extension": ".py",
   "mimetype": "text/x-python",
   "name": "python",
   "nbconvert_exporter": "python",
   "pygments_lexer": "ipython3",
   "version": "3.5.2"
  }
 },
 "nbformat": 4,
 "nbformat_minor": 2
}
