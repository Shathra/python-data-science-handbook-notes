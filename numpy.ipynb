{
 "cells": [
  {
   "cell_type": "code",
   "execution_count": 2,
   "metadata": {},
   "outputs": [],
   "source": [
    "import numpy as np"
   ]
  },
  {
   "cell_type": "markdown",
   "metadata": {},
   "source": [
    "# IPython or Jupyter Related\n",
    "\n",
    "## Put an egg on it\n",
    "\n",
    " - Put ? at the end of almost anything to get docs\n",
    "\n",
    "`np.arange?`\n",
    "\n",
    " - Tab to autocomplete\n",
    " - `%timeit` to time it\n",
    " - `%time` to time just once"
   ]
  },
  {
   "cell_type": "code",
   "execution_count": 7,
   "metadata": {},
   "outputs": [],
   "source": [
    "np.arange?"
   ]
  },
  {
   "cell_type": "code",
   "execution_count": 9,
   "metadata": {},
   "outputs": [
    {
     "name": "stdout",
     "output_type": "stream",
     "text": [
      "659 µs ± 1.01 µs per loop (mean ± std. dev. of 7 runs, 1000 loops each)\n",
      "6.78 µs ± 38.7 ns per loop (mean ± std. dev. of 7 runs, 100000 loops each)\n"
     ]
    }
   ],
   "source": [
    "arr = np.random.random(10000)\n",
    "\n",
    "%timeit sum(arr)\n",
    "%timeit np.sum(arr)"
   ]
  },
  {
   "cell_type": "markdown",
   "metadata": {},
   "source": [
    "# Numpy\n",
    "\n",
    "## About ufunc\n",
    "\n",
    "> A universal function (or ufunc for short) is a function that operates on ndarrays in an element-by-element fashion, supporting array broadcasting, type casting, and several other standard features\n",
    "\n",
    "So they are fast\n",
    "\n",
    "**TODO:** Custom ufunc with or without using CPython\n",
    "\n",
    "## axis parameter\n",
    "\n",
    "There is a nice sentence about it : \"The `axis` keyword specifies the dimension of the array that will be collapsed, rather than the dimension that will be returned.\"\n",
    "\n",
    "`M.max(axis=1)`\n",
    "\n",
    "So columns will be collapsed, if `M.shape` equals to `(3, 4)` then new shape will be `(3,)` since columns are collapsed."
   ]
  },
  {
   "cell_type": "code",
   "execution_count": 11,
   "metadata": {},
   "outputs": [
    {
     "name": "stdout",
     "output_type": "stream",
     "text": [
      "(3, 4)\n",
      "(3,)\n"
     ]
    }
   ],
   "source": [
    "M = np.random.random((3, 4))\n",
    "print(M.shape)\n",
    "print(M.max(axis=1).shape)"
   ]
  },
  {
   "cell_type": "markdown",
   "metadata": {},
   "source": [
    "## Broadcasting\n",
    "\n",
    "Rules of Broadcasting : \n",
    "    - Rule 1: If the two arrays differ in their number of dimensions, the shape of the one with fewer dimensions is padded with ones on its leading (left) side.\n",
    "    - Rule 2: If the shape of the two arrays does not match in any dimension, the array with shape equal to 1 in that dimension is stretched to match to match the other shape.\n",
    "    - RUle 3: If in any dimension the sizes disagree and neither is equal to 1, an error is raised."
   ]
  },
  {
   "cell_type": "code",
   "execution_count": 8,
   "metadata": {},
   "outputs": [
    {
     "name": "stdout",
     "output_type": "stream",
     "text": [
      "[[1. 2. 3.]\n",
      " [1. 2. 3.]]\n",
      "[[0 1 2]\n",
      " [1 2 3]\n",
      " [2 3 4]]\n",
      "operands could not be broadcast together with shapes (3,2) (3,) \n"
     ]
    }
   ],
   "source": [
    "M = np.ones((2, 3))\n",
    "a = np.arange(3)\n",
    "print(M + a)\n",
    "\n",
    "a = np.arange(3).reshape((3, 1))\n",
    "b = np.arange(3)\n",
    "print(a + b)\n",
    "\n",
    "M = np.ones((3, 2))\n",
    "a = np.arange(3)\n",
    "\n",
    "try:\n",
    "    print(M + a)\n",
    "except ValueError as e:\n",
    "    print(e)"
   ]
  },
  {
   "cell_type": "markdown",
   "metadata": {},
   "source": [
    "## Boolean Numpy\n",
    "\n",
    "`&`, `|`,`^` and `~` operators might be useful with boolean numpy operations. Note the difference between `&` and `and`.\n",
    "\n",
    "### Remainders\n",
    "\n",
    " - `np.any`\n",
    "\n",
    " - `np.all`"
   ]
  },
  {
   "cell_type": "code",
   "execution_count": 16,
   "metadata": {},
   "outputs": [
    {
     "name": "stdout",
     "output_type": "stream",
     "text": [
      "4\n",
      "True\n",
      "True\n",
      "False\n"
     ]
    }
   ],
   "source": [
    "arr = np.arange(10)\n",
    "\n",
    "count = np.sum(arr > 5)\n",
    "print(count)\n",
    "\n",
    "print(np.any(arr))\n",
    "print(arr.any())\n",
    "print(arr.all())"
   ]
  },
  {
   "cell_type": "markdown",
   "metadata": {},
   "source": [
    "## Fancy Indexing\n",
    "\n",
    "Fancy indexing in numpy refers to passing an array of indices to access multiple array elements at once.\n",
    "\n",
    "**Note: ** The return value reflects the broadcasted shape of the indices, rather than the shape of the array being indexed.\n",
    "\n",
    " - Broadcasting rules apply when two indices are given (like row & col)\n",
    " - Fancy indexing can be combined with the other indexing schemes (Like boolean masks, or slicing)\n",
    " - Fancy indexing is very useful getting random rows in 2D matrix (Like training-test split)"
   ]
  },
  {
   "cell_type": "code",
   "execution_count": 37,
   "metadata": {},
   "outputs": [
    {
     "name": "stdout",
     "output_type": "stream",
     "text": [
      "[0 1 2 3 4 5 6 7 8]\n",
      "[[0 2]\n",
      " [6 8]]\n",
      "[[0 1 2]\n",
      " [3 4 5]\n",
      " [6 7 8]]\n",
      "[[0 2]\n",
      " [6 8]]\n",
      "\n",
      "Broadcasting rules apply when two indices are given (like row & col) : \n",
      "Array\n",
      "[[ 0  1  2  3]\n",
      " [ 4  5  6  7]\n",
      " [ 8  9 10 11]\n",
      " [12 13 14 15]]\n",
      "Indices\n",
      "[[0]\n",
      " [1]\n",
      " [2]]\n",
      "[0 1 2]\n",
      "Result\n",
      "[[ 0  1  2]\n",
      " [ 4  5  6]\n",
      " [ 8  9 10]]\n",
      "\n",
      "Combined Indexing\n",
      "[[ 0  1  2  3  4]\n",
      " [ 5  6  7  8  9]\n",
      " [10 11 12 13 14]\n",
      " [15 16 17 18 19]\n",
      " [20 21 22 23 24]]\n",
      "[[20 21 22]\n",
      " [15 16 17]\n",
      " [10 11 12]\n",
      " [ 5  6  7]\n",
      " [ 0  1  2]]\n"
     ]
    }
   ],
   "source": [
    "arr = np.arange(9)\n",
    "print(arr)\n",
    "\n",
    "ind = np.array([[0, 2], [6, 8]])\n",
    "print(arr[ind])\n",
    "\n",
    "arr = arr.reshape((3, 3))\n",
    "print(arr)\n",
    "\n",
    "row = np.array([[0, 0], [2, 2]])\n",
    "col = np.array([[0, 2], [0, 2]])\n",
    "print(arr[row, col])\n",
    "\n",
    "# Broadcasting rules apply when two indices are given (like row & col) : \n",
    "print()\n",
    "print(\"Broadcasting rules apply when two indices are given (like row & col) : \")\n",
    "\n",
    "print(\"Array\")\n",
    "arr = np.arange(16).reshape((4, 4))\n",
    "print(arr)\n",
    "\n",
    "print(\"Indices\")\n",
    "row = np.arange(3)[:, np.newaxis]\n",
    "col = row.ravel()\n",
    "print(row)\n",
    "print(col)\n",
    "\n",
    "print(\"Result\")\n",
    "print(arr[row, col])\n",
    "\n",
    "# Combined Indexing\n",
    "print()\n",
    "print(\"Combined Indexing\")\n",
    "\n",
    "arr = np.arange(25).reshape(5, 5)\n",
    "print(arr)\n",
    "\n",
    "row = np.arange(5)[::-1]\n",
    "\n",
    "print(arr[row, :3])"
   ]
  },
  {
   "cell_type": "markdown",
   "metadata": {},
   "source": [
    "## Sorting\n",
    "\n",
    "**Note : ** `argsort` and `np.argsort` are pretty cool.\n",
    "\n",
    " - `np.sort` returns sorted **copy** of array."
   ]
  },
  {
   "cell_type": "code",
   "execution_count": 59,
   "metadata": {},
   "outputs": [
    {
     "name": "stdout",
     "output_type": "stream",
     "text": [
      "[2 0 3 4]\n",
      "[4 0 6 8]\n",
      "[0 2 3 4]\n",
      "[0 4 6 8]\n",
      "\n",
      "[[1 9 3 4]\n",
      " [9 8 7 2]]\n",
      "\n",
      "[[1 3 4 9]\n",
      " [2 7 8 9]]\n"
     ]
    }
   ],
   "source": [
    "# argsort can be used to sort parallel arrays\n",
    "\n",
    "x = np.array([2, 0, 3, 4])\n",
    "y = x * 2\n",
    "\n",
    "print(x)\n",
    "print(y)\n",
    "\n",
    "ind_sort = x.argsort()\n",
    "x = x[ind_sort]\n",
    "y = y[ind_sort]\n",
    "\n",
    "print(x)\n",
    "print(y)\n",
    "\n",
    "# axis parameter is also available\n",
    "\n",
    "M = np.array([[1, 9, 3, 4], [9, 8, 7, 2]])\n",
    "print()\n",
    "print(M)\n",
    "print()\n",
    "print(np.sort(M, axis=1))"
   ]
  }
 ],
 "metadata": {
  "kernelspec": {
   "display_name": "Python 3",
   "language": "python",
   "name": "python3"
  },
  "language_info": {
   "codemirror_mode": {
    "name": "ipython",
    "version": 3
   },
   "file_extension": ".py",
   "mimetype": "text/x-python",
   "name": "python",
   "nbconvert_exporter": "python",
   "pygments_lexer": "ipython3",
   "version": "3.5.2"
  }
 },
 "nbformat": 4,
 "nbformat_minor": 2
}
