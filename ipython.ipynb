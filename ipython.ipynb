{
 "cells": [
  {
   "cell_type": "code",
   "execution_count": null,
   "metadata": {},
   "outputs": [],
   "source": [
    "import numpy as np"
   ]
  },
  {
   "cell_type": "markdown",
   "metadata": {},
   "source": [
    "# IPython or Jupyter Related\n",
    "\n",
    "## Put an egg on it\n",
    "\n",
    " - Put ? at the end of almost anything to get docs\n",
    "\n",
    "`np.arange?`\n",
    "\n",
    " - Tab to autocomplete\n",
    " - `%timeit` to time it\n",
    " - `%time` to time just once"
   ]
  },
  {
   "cell_type": "code",
   "execution_count": 9,
   "metadata": {},
   "outputs": [],
   "source": [
    "np.arange?"
   ]
  },
  {
   "cell_type": "code",
   "execution_count": 8,
   "metadata": {},
   "outputs": [
    {
     "name": "stdout",
     "output_type": "stream",
     "text": [
      "794 µs ± 6.16 µs per loop (mean ± std. dev. of 7 runs, 1000 loops each)\n",
      "7.29 µs ± 22.1 ns per loop (mean ± std. dev. of 7 runs, 100000 loops each)\n"
     ]
    }
   ],
   "source": [
    "arr = np.random.random(10000)\n",
    "\n",
    "%timeit sum(arr)\n",
    "%timeit np.sum(arr)"
   ]
  },
  {
   "cell_type": "code",
   "execution_count": 7,
   "metadata": {},
   "outputs": [
    {
     "name": "stdout",
     "output_type": "stream",
     "text": [
      "ipython.ipynb\t  matplotlib.ipynb  pandas.ipynb\r\n",
      "ipywidgets.ipynb  numpy.ipynb\t    pywidget.png\r\n"
     ]
    }
   ],
   "source": [
    "# Put exclamation mark at the beginning of the line to specify a shell command\n",
    "\n",
    "!ls"
   ]
  },
  {
   "cell_type": "markdown",
   "metadata": {},
   "source": [
    "## Profiling\n",
    "\n",
    "Just read the actual section: https://jakevdp.github.io/PythonDataScienceHandbook/01.07-timing-and-profiling.html"
   ]
  },
  {
   "cell_type": "markdown",
   "metadata": {},
   "source": [
    "Line by line profiling:\n",
    "\n",
    "Install\n",
    "\n",
    "`conda install install line_profiler`\n",
    "\n",
    "Load module\n",
    "\n",
    "`%load_ext line_profiler`\n",
    "    \n",
    "Profile function\n",
    "\n",
    "`%lprun -f function_name function_call`\n",
    "\n",
    "`%lprun -f sum_of_lists sum_of_lists(5000)`"
   ]
  },
  {
   "cell_type": "code",
   "execution_count": 4,
   "metadata": {},
   "outputs": [],
   "source": [
    "%load_ext line_profiler"
   ]
  },
  {
   "cell_type": "code",
   "execution_count": 6,
   "metadata": {},
   "outputs": [],
   "source": [
    "def experiment(n):\n",
    "\n",
    "    number_lst = []\n",
    "    number_set = set()\n",
    "    for i in range(n):\n",
    "        if i not in number_lst:\n",
    "            number_lst.append(i)\n",
    "        if i not in number_set:\n",
    "            number_set.add(i)"
   ]
  },
  {
   "cell_type": "code",
   "execution_count": 7,
   "metadata": {},
   "outputs": [],
   "source": [
    "lprun -f experiment experiment(5000)"
   ]
  },
  {
   "cell_type": "markdown",
   "metadata": {},
   "source": [
    "    Timer unit: 1e-06 s\n",
    "\n",
    "    Total time: 0.146076 s\n",
    "    File: <ipython-input-6-988d8b54fe77>\n",
    "    Function: experiment at line 1\n",
    "\n",
    "    Line #      Hits         Time  Per Hit   % Time  Line Contents\n",
    "    ==============================================================\n",
    "         1                                           def experiment(n):\n",
    "         2                                           \n",
    "         3         1          2.0      2.0      0.0      number_lst = []\n",
    "         4         1          2.0      2.0      0.0      number_set = set()\n",
    "         5      5001       1702.0      0.3      1.2      for i in range(n):\n",
    "         6      5000     137686.0     27.5     94.3          if i not in number_lst:\n",
    "         7      5000       2706.0      0.5      1.9              number_lst.append(i)\n",
    "         8      5000       1831.0      0.4      1.3          if i not in number_set:\n",
    "         9      5000       2147.0      0.4      1.5              number_set.add(i)"
   ]
  },
  {
   "cell_type": "markdown",
   "metadata": {},
   "source": [
    "## Shortcuts\n",
    "\n",
    "`H -> Help (Shows all shortcuts)`\n",
    "\n",
    "`Z -> Undo cell deletion`\n",
    "\n",
    "`F -> Find and replace`\n",
    "\n",
    "`O -> Toggle output`"
   ]
  },
  {
   "cell_type": "markdown",
   "metadata": {},
   "source": [
    "## Extensions\n",
    "\n",
    "`pip install jupyter_contrib_nbextensions`\n",
    "\n",
    "or\n",
    "\n",
    "`conda install -c conda-forge jupyter_contrib_nbextensions `"
   ]
  },
  {
   "cell_type": "markdown",
   "metadata": {},
   "source": [
    "TODO: Debug options"
   ]
  }
 ],
 "metadata": {
  "kernelspec": {
   "display_name": "Python 3",
   "language": "python",
   "name": "python3"
  },
  "language_info": {
   "codemirror_mode": {
    "name": "ipython",
    "version": 3
   },
   "file_extension": ".py",
   "mimetype": "text/x-python",
   "name": "python",
   "nbconvert_exporter": "python",
   "pygments_lexer": "ipython3",
   "version": "3.6.7"
  },
  "varInspector": {
   "cols": {
    "lenName": 16,
    "lenType": 16,
    "lenVar": 40
   },
   "kernels_config": {
    "python": {
     "delete_cmd_postfix": "",
     "delete_cmd_prefix": "del ",
     "library": "var_list.py",
     "varRefreshCmd": "print(var_dic_list())"
    },
    "r": {
     "delete_cmd_postfix": ") ",
     "delete_cmd_prefix": "rm(",
     "library": "var_list.r",
     "varRefreshCmd": "cat(var_dic_list()) "
    }
   },
   "position": {
    "height": "358px",
    "left": "1541px",
    "right": "20px",
    "top": "120px",
    "width": "292px"
   },
   "types_to_exclude": [
    "module",
    "function",
    "builtin_function_or_method",
    "instance",
    "_Feature"
   ],
   "window_display": false
  }
 },
 "nbformat": 4,
 "nbformat_minor": 2
}
